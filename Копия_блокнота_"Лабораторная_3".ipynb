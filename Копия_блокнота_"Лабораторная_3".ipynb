{
  "nbformat": 4,
  "nbformat_minor": 0,
  "metadata": {
    "colab": {
      "provenance": [],
      "include_colab_link": true
    },
    "kernelspec": {
      "name": "python3",
      "display_name": "Python 3"
    },
    "language_info": {
      "name": "python"
    }
  },
  "cells": [
    {
      "cell_type": "markdown",
      "metadata": {
        "id": "view-in-github",
        "colab_type": "text"
      },
      "source": [
        "<a href=\"https://colab.research.google.com/github/evstratenko/123321/blob/main/%D0%9A%D0%BE%D0%BF%D0%B8%D1%8F_%D0%B1%D0%BB%D0%BE%D0%BA%D0%BD%D0%BE%D1%82%D0%B0_%22%D0%9B%D0%B0%D0%B1%D0%BE%D1%80%D0%B0%D1%82%D0%BE%D1%80%D0%BD%D0%B0%D1%8F_3%22.ipynb\" target=\"_parent\"><img src=\"https://colab.research.google.com/assets/colab-badge.svg\" alt=\"Open In Colab\"/></a>"
      ]
    },
    {
      "cell_type": "markdown",
      "source": [],
      "metadata": {
        "id": "qJYoHQV24Nls"
      }
    },
    {
      "cell_type": "code",
      "execution_count": null,
      "metadata": {
        "id": "gFjsfESEJsB6",
        "colab": {
          "base_uri": "https://localhost:8080/"
        },
        "outputId": "979eef12-4b9d-4acb-d51e-d65a8187037e"
      },
      "outputs": [
        {
          "output_type": "stream",
          "name": "stdout",
          "text": [
            "[]\n"
          ]
        }
      ],
      "source": [
        "import sqlite3\n",
        "\n",
        "class Animal:\n",
        "    def __init__(self, index, name, kind, weight, age, keeper, home):\n",
        "        self.index = index\n",
        "        self.name = name\n",
        "        self.kind = kind\n",
        "        self.weight = weight\n",
        "        self.age = age\n",
        "        self.keeper = keeper\n",
        "        self.home = home\n",
        "\n",
        "    def __repr__(self):\n",
        "        return (\"Animal: \" +\n",
        "                \"\\n index: \" + str(self.index)\n",
        "                + \"\\n name: \" + self.name\n",
        "                + \"\\n kind: \" + self.kind\n",
        "                + \"\\n weight: \" + str(self.weight)\n",
        "                + \"\\n age: \" + str(self.age)\n",
        "                + \"\\n keeper: \" + str(self.keeper)\n",
        "                + \"\\n home: \" + str(self.home))\n",
        "\n",
        "class Employee:\n",
        "    def __init__(self, index, name, task, salary):\n",
        "        self.index = index\n",
        "        self.name = name\n",
        "        self.task = task\n",
        "        self.salary = salary\n",
        "\n",
        "    def __repr__(self):\n",
        "        return (\"Employee: \" +\n",
        "                \"\\n index: \" + str(self.index)\n",
        "                + \"\\n name: \" + self.name\n",
        "                + \"\\n task: \" + self.task\n",
        "                + \"\\n salary: \" + str(self.salary))\n",
        "class Avial:\n",
        "    def __init__(self, index, capacity, animal_type):\n",
        "        self.index = index\n",
        "        self.capacity = capacity\n",
        "        self.animal_type = animal_type\n",
        "\n",
        "    def __repr__(self):\n",
        "        return (\"Avial: \" +\n",
        "                \"\\n index: \" + str(self.index)\n",
        "                + \"\\n capacity: \" + str(self.capacity)\n",
        "                + \"\\n animal_type: \" + self.animal_type)\n",
        "\n",
        "    def add_animal(self, animal):\n",
        "        if animal.kind == self.animal_type:\n",
        "            if self.capacity > 0:\n",
        "                self.capacity -= 1\n",
        "                animal.home = self.index\n",
        "                return True\n",
        "            else:\n",
        "                return False\n",
        "        else:\n",
        "            return False\n",
        "\n",
        "    def remove_animal(self, animal):\n",
        "        if animal.home == self.index:\n",
        "            self.capacity += 1\n",
        "            animal.home = None\n",
        "            return True\n",
        "        else:\n",
        "            return False\n",
        "            \n",
        "animals = []\n",
        "employees = []\n",
        "avials = []\n",
        "\n",
        "borya = Animal(0,\"Borya\",\"bear\",300,20,1,1)\n",
        "gosha = Animal(1,\"Gosha\",\"lion\",150,10,2,2)\n",
        "misha = Animal(2,\"Misha\",\"eagle\",20,5,1,3)\n",
        "\n",
        "animals.append(borya)\n",
        "animals.append(gosha)\n",
        "animals.append(misha)\n",
        "\n",
        "victor = Employee(0,\"Victor Petrov\",\"feed\",50000)\n",
        "leonid = Employee(1,\"Leonid \",\"clean\",45000)\n",
        "\n",
        "employees = [victor,leonid]\n",
        "\n",
        "conn = sqlite3.connect(\"my.db\")\n",
        "cursor = conn.cursor()\n",
        "\n",
        "cursor.execute('''CREATE TABLE IF NOT EXISTS animals(\n",
        "            id INT PRIMARY KEY,\n",
        "            name TEXT,\n",
        "            kind TEXT,\n",
        "            weight REAL,\n",
        "            age INT,\n",
        "            keeper INT,\n",
        "            home INT\n",
        "            )''')\n",
        "\n",
        "cursor.execute('''CREATE TABLE IF NOT EXISTS employee(\n",
        "            id INT PRIMARY KEY,\n",
        "            name TEXT,\n",
        "            task TEXT,\n",
        "            salary INT\n",
        "            )''')\n",
        "\n",
        "cursor.execute('''CREATE TABLE IF NOT EXISTS avials(\n",
        "            id INTEGER PRIMARY KEY,\n",
        "            capacity INTEGER,\n",
        "            animal_type TEXT\n",
        "            )''')\n",
        "\n",
        "r = cursor.fetchall()\n",
        "\n",
        "print(r)\n"
      ]
    }
  ]
}